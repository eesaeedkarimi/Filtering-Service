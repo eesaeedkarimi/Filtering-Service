{
 "cells": [
  {
   "cell_type": "markdown",
   "metadata": {},
   "source": [
    "# Demo for Filtering Service"
   ]
  },
  {
   "cell_type": "markdown",
   "metadata": {},
   "source": [
    "## Start Service\n",
    "Run the following command in cmd to start service:\n",
    "```\n",
    "python server.py\n",
    "```"
   ]
  },
  {
   "cell_type": "code",
   "execution_count": 1,
   "metadata": {},
   "outputs": [],
   "source": [
    "import requests\n",
    "import os\n",
    "import json"
   ]
  },
  {
   "cell_type": "markdown",
   "metadata": {},
   "source": [
    "## Test service by sending GET request\n",
    "The following blocks send a GET request and print the output."
   ]
  },
  {
   "cell_type": "code",
   "execution_count": 2,
   "metadata": {
    "scrolled": true
   },
   "outputs": [
    {
     "name": "stdout",
     "output_type": "stream",
     "text": [
      "[\n",
      "\t{\"x\": 10.0, \"y\": 10.0, \"width\": 90.0, \"height\": 90.0, \"time\": \"2020-08-22 17:28:51\"},\n",
      "\t{\"x\": 10.0, \"y\": 10.0, \"width\": 90.0, \"height\": 90.0, \"time\": \"2020-08-22 17:29:56\"},\n",
      "\t{\"x\": 10.0, \"y\": 10.0, \"width\": 90.0, \"height\": 90.0, \"time\": \"2020-08-22 17:30:54\"}\n",
      "]\n",
      "\n"
     ]
    }
   ],
   "source": [
    "URL = \"http://127.0.0.1:8080/\"\n",
    "os.environ['NO_PROXY'] = '127.0.0.1'\n",
    "r = requests.get(url=URL)\n",
    "print(r.text)"
   ]
  },
  {
   "cell_type": "markdown",
   "metadata": {},
   "source": [
    "## Test service by sending POST request\n",
    "The following blocks send a POST request."
   ]
  },
  {
   "cell_type": "code",
   "execution_count": 3,
   "metadata": {},
   "outputs": [],
   "source": [
    "URL = \"http://localhost:8080/\""
   ]
  },
  {
   "cell_type": "code",
   "execution_count": 4,
   "metadata": {},
   "outputs": [
    {
     "name": "stdout",
     "output_type": "stream",
     "text": [
      "Response to POST request.\n"
     ]
    }
   ],
   "source": [
    "data = {\n",
    "    \"main\": {\"x\": 1, \"y\": 1, \"width\": 100, \"height\": 100},\n",
    "    \"input\": [\n",
    "        {\"x\": 10, \"y\": 10, \"width\": 90, \"height\": 90},\n",
    "        {\"x\": 110, \"y\": 110, \"width\": 120, \"height\": 120}\n",
    "    ]\n",
    "}\n",
    "# sending post request and saving response as response object\n",
    "response = requests.post(url=URL, json=json.dumps(data))\n",
    "\n",
    "# extracting response text\n",
    "response_text = response.text\n",
    "print(response_text)"
   ]
  },
  {
   "cell_type": "markdown",
   "metadata": {},
   "source": [
    "### Send GET request again to check the result."
   ]
  },
  {
   "cell_type": "code",
   "execution_count": 5,
   "metadata": {},
   "outputs": [
    {
     "name": "stdout",
     "output_type": "stream",
     "text": [
      "[\n",
      "\t{\"x\": 10.0, \"y\": 10.0, \"width\": 90.0, \"height\": 90.0, \"time\": \"2020-08-22 17:28:51\"},\n",
      "\t{\"x\": 10.0, \"y\": 10.0, \"width\": 90.0, \"height\": 90.0, \"time\": \"2020-08-22 17:29:56\"},\n",
      "\t{\"x\": 10.0, \"y\": 10.0, \"width\": 90.0, \"height\": 90.0, \"time\": \"2020-08-22 17:30:54\"},\n",
      "\t{\"x\": 10.0, \"y\": 10.0, \"width\": 90.0, \"height\": 90.0, \"time\": \"2020-08-22 17:36:55\"}\n",
      "]\n",
      "\n"
     ]
    }
   ],
   "source": [
    "URL = \"http://127.0.0.1:8080/\"\n",
    "os.environ['NO_PROXY'] = '127.0.0.1'\n",
    "r = requests.get(url=URL)\n",
    "print(r.text)"
   ]
  }
 ],
 "metadata": {
  "kernelspec": {
   "display_name": "Python 3",
   "language": "python",
   "name": "python3"
  },
  "language_info": {
   "codemirror_mode": {
    "name": "ipython",
    "version": 3
   },
   "file_extension": ".py",
   "mimetype": "text/x-python",
   "name": "python",
   "nbconvert_exporter": "python",
   "pygments_lexer": "ipython3",
   "version": "3.6.8"
  }
 },
 "nbformat": 4,
 "nbformat_minor": 2
}
